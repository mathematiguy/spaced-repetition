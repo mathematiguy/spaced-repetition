{
 "cells": [
  {
   "cell_type": "markdown",
   "id": "c95f6834-24d7-41b4-a6e5-e860fedd5830",
   "metadata": {},
   "source": [
    "# Spaced repetition\n",
    "\n",
    "Spaced repetition is a learning technique with the goal of memorisation whereby flashcards are shown to the student at increasing intervals. The goal of this notebook is to discuss some possible approaches to spaced repetition."
   ]
  },
  {
   "cell_type": "markdown",
   "id": "55aafe41-f9af-4f38-821b-31b675197ab7",
   "metadata": {},
   "source": [
    "## Possible approaches\n",
    "\n",
    "### Machine Learning\n",
    "\n",
    "My hunch is that machine learning would be a good framework for building a spaced repetition algorithm. In particular, this could be done using reinforcement learning in online mode. The question is, what would a good loss function be?\n",
    "\n",
    "#### Loss function\n",
    "\n",
    "Here are some ideas for a loss function:\n",
    "\n",
    "- Mean interval length in the queue\n",
    "\n",
    "The idea behind mean interval length in the queue is that we would like the model to encourage students to remember things for long periods of time. However, the problem is that the model can choose arbitrarily long intervals even if the student will surely fail once the word is presented to them."
   ]
  },
  {
   "cell_type": "markdown",
   "id": "25408071-c64c-442c-9f44-5d2d21c343c2",
   "metadata": {},
   "source": [
    "### Bayesian statistics\n",
    "\n",
    "An approach to spaced repetition using bayesian statistics already exists in the form of `ebisu` (read more here: https://fasiha.github.io/ebisu/)"
   ]
  },
  {
   "cell_type": "code",
   "execution_count": null,
   "id": "b45cd5e3-4e48-4752-80eb-8af24701471b",
   "metadata": {},
   "outputs": [],
   "source": []
  }
 ],
 "metadata": {
  "kernelspec": {
   "display_name": "Python 3",
   "language": "python",
   "name": "python3"
  },
  "language_info": {
   "codemirror_mode": {
    "name": "ipython",
    "version": 3
   },
   "file_extension": ".py",
   "mimetype": "text/x-python",
   "name": "python",
   "nbconvert_exporter": "python",
   "pygments_lexer": "ipython3",
   "version": "3.6.9"
  }
 },
 "nbformat": 4,
 "nbformat_minor": 5
}
